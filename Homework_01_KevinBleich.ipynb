{
 "cells": [
  {
   "cell_type": "markdown",
   "metadata": {},
   "source": [
    "# Homework 1: Setup & Rounding Error\n",
    "Physics 177, Spring 2017  (Prof. Tanedo)  \n",
    "**Due**: Tuesday, April 18\n",
    "\n",
    "Kevin Bleich  "
   ]
  },
  {
   "cell_type": "markdown",
   "metadata": {},
   "source": [
    "## Discussion\n",
    "\n",
    "Feel free to use whatever resources you need to get up to speed with the tools (Python, Jupyter, GitHub). You are encouraged to work with other students, especially for technical set up. Please note the following:\n",
    "* While you are free to discuss the problems, every line of code you type should be your own and *not* copied-and-pasted from anyone else. You should write your code without referring to anyone else.\n",
    "* We will penalize plagiarism harshly.\n"
   ]
  },
  {
   "cell_type": "markdown",
   "metadata": {},
   "source": [
    "## 1. Getting Set Up\n",
    "\n",
    "Set up **Python** on your system. Version 3.6 is preferred, but we shouldn't have any major problems if you're using an earlier 3.x version or 2.7.\n",
    "\n",
    "You are also responsible for setting up the **Jupyter** notebook (formerly iPython) environment. \n",
    "\n",
    "Sign up for a free **GitHub** account. The account should be associated with your UCR e-mail address. (You may also use an existing account.) All work for this course will be completed in Jupyter notebooks and submitted to GitHub. \n",
    "- I strongly suggest that you use a professional username. Your GitHub account is a de-facto resume/CV when you apply for jobs (both academic and industry).\n",
    "- I also suggest uploading a photo to help us learn your names.\n",
    "\n",
    "**Important**: send an e-mail to Prof. Tanedo and Corey Kownacki (TA). The subject of the e-mail should be *P177: Homework 1* and you should clearly indicate your GitHub username and the URL to your GitHub account. \n"
   ]
  },
  {
   "cell_type": "markdown",
   "metadata": {},
   "source": [
    "## 2. Cloning this notebook\n",
    "\n",
    "Homework, like this one, will be posted to the course GitHub:  \n",
    "https://github.com/orgs/Physics177-2017/  \n",
    "\n",
    "For those already familiar with GitHub, you can go ahead and fork a copy of this notebook. The instructions below are the \"round-about\" way of doing things.\n",
    "\n",
    "1. Download (\"clone\") this notebook to your own computer.\n",
    "\n",
    "2. Open your local copy of this notebook.\n",
    "\n",
    "3. Go to the top cell of this notebook and replace \"**Your Name**\" with your actual name. *Remark*: the anime film *Your Name* was recently released in US theaters. As of this writing, it has a 79% score on Metacritic.\n",
    "\n",
    "4. Save this notebook\n",
    "\n",
    "5. Create a new repository on GitHub called **P177_Homework01**. Initialize it with a **README.md** file, where you can briefly explain that this is Homework 1. Feel free to add any other comments in the README that you think are appropriate.\n",
    "\n",
    "6. Upload your local copy of this notebook to this repository. Be sure to write a brief note under **Commit changes**. Say something like \"initial upload.\"\n",
    "\n",
    "7. Make sure that the copy of your homework in your repository actually has your name on top. If not, troubleshoot."
   ]
  },
  {
   "cell_type": "markdown",
   "metadata": {},
   "source": [
    "## 3. Markdown Practice\n",
    "\n",
    "For this problem, I'd like you **create a markdown cell** just below this one and explore the markdown syntax. Use *Insert* > *Insert Cell Below* from this cell.\n",
    "\n",
    "Here's one useful reference:\n",
    "https://github.com/adam-p/markdown-here/wiki/Markdown-Cheatsheet\n",
    "\n",
    "I'd like you to include the following in this new cell:\n",
    "1. Create a subheading (using two hashtags) \n",
    "2. Create a list\n",
    "3. Use **boldface** and *italics*\n",
    "4. Your favorite equation, written in $\\LaTeX$\n",
    "5. Embed a YouTube trailer of the film *Your Name*. For this you may want to refer to http://stackoverflow.com/a/27315283. "
   ]
  },
  {
   "cell_type": "markdown",
   "metadata": {},
   "source": [
    "## Random List\n",
    "\n",
    "1. I want some **pizza**\n",
    "2. My dog is licking my laptop\n",
    "  * He's _weird_\n",
    "  * Maybe he wants to learn Python too\n",
    "3. I hate mornings\n",
    "  1. I wish there were no classes before noon\n",
    "  \n",
    "My favorite equation:\n",
    "\n",
    "\\begin{equation}\n",
    "\\Delta x = v_ot + \\frac{1}{2}at^2\n",
    "\\end{equation}\n",
    "\n",
    "_Your Name_ Trailer:\n",
    "\n",
    "[![_Your Name_ Trailer](https://img.youtube.com/vi/xU47nhruN-Q/0.jpg)](https://www.youtube.com/watch?v=xU47nhruN-Q)"
   ]
  },
  {
   "cell_type": "markdown",
   "metadata": {},
   "source": [
    "## 4. Simpson's Rule\n",
    "In class we built a simple Riemann sum integrator. The code that we wrote together is posted here:\n",
    "https://github.com/Physics177-2017/Lec03-Rounding-Error\n",
    "\n",
    "In this problem, please perform the *same* analysis on the *same* test function using **Simpson's rule**. \n",
    "\n",
    "What's that? Well, you'll have to read a little about it. You can find a discussion in section 5.1.2 of the course textbook (Newman, *Computational Physics*, 2nd ed.). For those who do not have a copy, you can find a discussion in Chapter 3 of Stickler's *Basic concepts in computational physics*, which is available electronically through the UCR library here: http://scotty.ucr.edu/record=b5077839~S5 (click on \"Connect to: SpringerLink\")\n",
    "\n",
    "Create a cell below this one and do the following:\n",
    "1. Create an \"integrator\" function that takes in a function and a spacing, $\\Delta x$, and outputs the integral of that function from 0 .to 1 using Simpson's rule.\n",
    "\n",
    "2. Use the same test function that we did in lecture: $$f(x) = 3.0\\times 10^{-10} x^2.$$\n",
    "\n",
    "3. Find the error on your algorithm (compared to the exact result) for $\\Delta x$ of $10^{-1}, \\cdots, 10^{-7}$.\n",
    "\n",
    "4. Compare this to the errors that we found using the Riemann sum. Are they better? Worse? What happens as we approach the \"$10^{-16}$\" numerical precision?"
   ]
  },
  {
   "cell_type": "code",
   "execution_count": 3,
   "metadata": {
    "collapsed": false
   },
   "outputs": [],
   "source": [
    "def integrator(f, deltax):\n",
    "    a = 0 #start point\n",
    "    b = 1 #end point\n",
    "    # n = (b - a)/deltax, for reference\n",
    "    place = 2*deltax\n",
    "    Integral = 0.0\n",
    "    \n",
    "    while(place <= b):\n",
    "        Integral += (deltax/3)*(f(place - 2*deltax) + 4*f(place - deltax) + f(place))\n",
    "        place += 2*deltax\n",
    "        \n",
    "    return Integral"
   ]
  },
  {
   "cell_type": "code",
   "execution_count": 4,
   "metadata": {
    "collapsed": true
   },
   "outputs": [],
   "source": [
    "def f(x):\n",
    "    return 3*(10**-10)*x**2"
   ]
  },
  {
   "cell_type": "code",
   "execution_count": 5,
   "metadata": {
    "collapsed": false
   },
   "outputs": [
    {
     "data": {
      "text/plain": [
       "(1.0000000000000002e-10,\n",
       " 9.411920000000009e-11,\n",
       " 9.940119920000019e-11,\n",
       " 9.99999999999873e-11,\n",
       " 9.99940001201167e-11,\n",
       " 9.999999999845524e-11,\n",
       " 9.999994000514764e-11)"
      ]
     },
     "execution_count": 5,
     "metadata": {},
     "output_type": "execute_result"
    }
   ],
   "source": [
    "integrator(f,0.1),integrator(f,0.01), integrator(f,0.001), integrator(f,0.0001),integrator(f,0.00001),integrator(f,0.000001),integrator(f,0.0000001)"
   ]
  },
  {
   "cell_type": "code",
   "execution_count": 2,
   "metadata": {
    "collapsed": true
   },
   "outputs": [],
   "source": [
    "def intError(deltax):\n",
    "    return 10**-10 - integrator(f,deltax)"
   ]
  },
  {
   "cell_type": "code",
   "execution_count": 6,
   "metadata": {
    "collapsed": false
   },
   "outputs": [
    {
     "data": {
      "text/plain": [
       "(-1.2924697071141057e-26,\n",
       " 5.880799999999916e-12,\n",
       " 5.988007999998149e-13,\n",
       " 1.270497722093166e-23,\n",
       " 5.999879883306491e-15,\n",
       " 1.5447597939427792e-21,\n",
       " 5.999485236043702e-17)"
      ]
     },
     "execution_count": 6,
     "metadata": {},
     "output_type": "execute_result"
    }
   ],
   "source": [
    "intError(0.1), intError(0.01), intError(0.001),intError(0.0001),intError(0.00001), intError(0.000001), intError(0.0000001)"
   ]
  },
  {
   "cell_type": "markdown",
   "metadata": {},
   "source": [
    "The errors I get for Simpson's Rule are overall similar to or better than what we got for the Riemann sum, however my errors don't get consistently smaller for smaller delta x as we saw in class. It appears I hit the 10^-16 limit with delta x = 0.1, because i got an error on the order of 10^-26, where it is clear that the error is greater than that by looking at the result of my integrator function."
   ]
  },
  {
   "cell_type": "markdown",
   "metadata": {},
   "source": [
    "## 5. Thinking about rounding errors\n",
    "\n",
    "In your own words, explain what's happening in the following cell:"
   ]
  },
  {
   "cell_type": "code",
   "execution_count": 8,
   "metadata": {
    "collapsed": false
   },
   "outputs": [
    {
     "data": {
      "text/plain": [
       "False"
      ]
     },
     "execution_count": 8,
     "metadata": {},
     "output_type": "execute_result"
    }
   ],
   "source": [
    "0.1+0.1+0.1 == .3"
   ]
  },
  {
   "cell_type": "markdown",
   "metadata": {},
   "source": [
    "when converting between base 2 (binary) and base 10 numbers, the base 10 number turns out to be inexact. so when we add 0.1 three times, we get 0.3 plus some very small factor that causes python to identify 0.1+0.1+0.1 as not equal to 0.3"
   ]
  },
  {
   "cell_type": "markdown",
   "metadata": {},
   "source": [
    "In a new cell below this one, explain why the above result is not suprising. What happens if you sum $0.1+0.1$ and compare it to $0.2$? Explain this."
   ]
  },
  {
   "cell_type": "markdown",
   "metadata": {},
   "source": [
    "## X1. [Extra Credit] \n",
    "\n",
    "INSPIRE is a database of papers in high-energy physics, you can find it here: http://inspirehep.net\n",
    "\n",
    "Write a script in Jupyter that takes a string and opens up a web browser with an INSPIRE search for that string."
   ]
  },
  {
   "cell_type": "code",
   "execution_count": 1,
   "metadata": {
    "collapsed": false
   },
   "outputs": [
    {
     "name": "stdout",
     "output_type": "stream",
     "text": [
      "What would you like to search for? testing testing\n"
     ]
    },
    {
     "data": {
      "text/plain": [
       "True"
      ]
     },
     "execution_count": 1,
     "metadata": {},
     "output_type": "execute_result"
    }
   ],
   "source": [
    "import webbrowser\n",
    "\n",
    "search = input(\"What would you like to search for? \")\n",
    "\n",
    "search = search.replace(\" \", \"+\")\n",
    "\n",
    "link = \"http://inspirehep.net/search?ln=en&p=%s\" % search\n",
    "\n",
    "webbrowser.open(link)"
   ]
  },
  {
   "cell_type": "code",
   "execution_count": null,
   "metadata": {
    "collapsed": true
   },
   "outputs": [],
   "source": []
  }
 ],
 "metadata": {
  "kernelspec": {
   "display_name": "Python 3",
   "language": "python",
   "name": "python3"
  },
  "language_info": {
   "codemirror_mode": {
    "name": "ipython",
    "version": 3
   },
   "file_extension": ".py",
   "mimetype": "text/x-python",
   "name": "python",
   "nbconvert_exporter": "python",
   "pygments_lexer": "ipython3",
   "version": "3.6.0"
  }
 },
 "nbformat": 4,
 "nbformat_minor": 1
}
